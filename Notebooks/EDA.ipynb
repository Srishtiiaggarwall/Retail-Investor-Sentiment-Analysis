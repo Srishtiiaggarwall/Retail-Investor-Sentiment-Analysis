{
 "cells": [
  {
   "cell_type": "code",
   "execution_count": 1,
   "metadata": {},
   "outputs": [
    {
     "name": "stdout",
     "output_type": "stream",
     "text": [
      "Installing ipywidgets...\n"
     ]
    },
    {
     "name": "stderr",
     "output_type": "stream",
     "text": [
      "C:\\Users\\HP\\AppData\\Local\\Temp\\ipykernel_6332\\4171995299.py:25: TqdmExperimentalWarning: Using `tqdm.autonotebook.tqdm` in notebook mode. Use `tqdm.tqdm` instead to force console mode (e.g. in jupyter console)\n",
      "  from tqdm.autonotebook import tqdm\n"
     ]
    }
   ],
   "source": [
    "\n",
    "import subprocess\n",
    "import sys\n",
    "\n",
    "def install_packages(packages):\n",
    "    for package in packages:\n",
    "        try:\n",
    "            __import__(package)\n",
    "        except ImportError:\n",
    "            print(f\"Installing {package}...\")\n",
    "            subprocess.check_call([sys.executable, \"-m\", \"pip\", \"install\", package])\n",
    "\n",
    "\n",
    "required_packages = [\"pandas\", \"nltk\", \"matplotlib\", \"seaborn\", \"tqdm\", \"jupyter\", \"ipywidgets\"]\n",
    "\n",
    "\n",
    "install_packages(required_packages)\n",
    "\n",
    "\n",
    "import os\n",
    "import pandas as pd\n",
    "import nltk\n",
    "import re\n",
    "import matplotlib.pyplot as plt\n",
    "import seaborn as sns\n",
    "from tqdm.autonotebook import tqdm"
   ]
  },
  {
   "cell_type": "code",
   "execution_count": 2,
   "metadata": {},
   "outputs": [],
   "source": [
    "train_file = os.path.join(\"../Data\", \"twitter_data_train.csv\")\n",
    "test_file = os.path.join(\"../Data\", \"twitter_data_test.csv\")\n",
    "val_file = os.path.join(\"../Data\", \"twitter_data_val.csv\")"
   ]
  },
  {
   "cell_type": "code",
   "execution_count": 3,
   "metadata": {},
   "outputs": [
    {
     "data": {
      "text/html": [
       "<div>\n",
       "<style scoped>\n",
       "    .dataframe tbody tr th:only-of-type {\n",
       "        vertical-align: middle;\n",
       "    }\n",
       "\n",
       "    .dataframe tbody tr th {\n",
       "        vertical-align: top;\n",
       "    }\n",
       "\n",
       "    .dataframe thead th {\n",
       "        text-align: right;\n",
       "    }\n",
       "</style>\n",
       "<table border=\"1\" class=\"dataframe\">\n",
       "  <thead>\n",
       "    <tr style=\"text-align: right;\">\n",
       "      <th></th>\n",
       "      <th>id</th>\n",
       "      <th>date</th>\n",
       "      <th>ticker</th>\n",
       "      <th>emo_label</th>\n",
       "      <th>senti_label</th>\n",
       "      <th>original</th>\n",
       "      <th>Unnamed: 6</th>\n",
       "    </tr>\n",
       "  </thead>\n",
       "  <tbody>\n",
       "    <tr>\n",
       "      <th>0</th>\n",
       "      <td>100001</td>\n",
       "      <td>01-01-2020</td>\n",
       "      <td>AMZN</td>\n",
       "      <td>excitement</td>\n",
       "      <td>bullish</td>\n",
       "      <td>$AMZN Dow futures up by 100 points already 🥳</td>\n",
       "      <td>NaN</td>\n",
       "    </tr>\n",
       "    <tr>\n",
       "      <th>1</th>\n",
       "      <td>100002</td>\n",
       "      <td>01-01-2020</td>\n",
       "      <td>TSLA</td>\n",
       "      <td>excitement</td>\n",
       "      <td>bullish</td>\n",
       "      <td>$TSLA Daddy's drinkin' eArly tonight! Here's t...</td>\n",
       "      <td>NaN</td>\n",
       "    </tr>\n",
       "    <tr>\n",
       "      <th>2</th>\n",
       "      <td>100003</td>\n",
       "      <td>01-01-2020</td>\n",
       "      <td>AAPL</td>\n",
       "      <td>confusion</td>\n",
       "      <td>bullish</td>\n",
       "      <td>$AAPL We’ll been riding since last December fr...</td>\n",
       "      <td>NaN</td>\n",
       "    </tr>\n",
       "    <tr>\n",
       "      <th>3</th>\n",
       "      <td>100004</td>\n",
       "      <td>01-01-2020</td>\n",
       "      <td>TSLA</td>\n",
       "      <td>excitement</td>\n",
       "      <td>bullish</td>\n",
       "      <td>$TSLA happy new year, 2020, everyone🍷🎉🙏</td>\n",
       "      <td>NaN</td>\n",
       "    </tr>\n",
       "    <tr>\n",
       "      <th>4</th>\n",
       "      <td>100005</td>\n",
       "      <td>01-01-2020</td>\n",
       "      <td>TSLA</td>\n",
       "      <td>excitement</td>\n",
       "      <td>bullish</td>\n",
       "      <td>$TSLA haha just a collection of greats...\"Mars...</td>\n",
       "      <td>NaN</td>\n",
       "    </tr>\n",
       "  </tbody>\n",
       "</table>\n",
       "</div>"
      ],
      "text/plain": [
       "       id        date ticker   emo_label senti_label  \\\n",
       "0  100001  01-01-2020   AMZN  excitement     bullish   \n",
       "1  100002  01-01-2020   TSLA  excitement     bullish   \n",
       "2  100003  01-01-2020   AAPL   confusion     bullish   \n",
       "3  100004  01-01-2020   TSLA  excitement     bullish   \n",
       "4  100005  01-01-2020   TSLA  excitement     bullish   \n",
       "\n",
       "                                            original  Unnamed: 6  \n",
       "0       $AMZN Dow futures up by 100 points already 🥳         NaN  \n",
       "1  $TSLA Daddy's drinkin' eArly tonight! Here's t...         NaN  \n",
       "2  $AAPL We’ll been riding since last December fr...         NaN  \n",
       "3            $TSLA happy new year, 2020, everyone🍷🎉🙏         NaN  \n",
       "4  $TSLA haha just a collection of greats...\"Mars...         NaN  "
      ]
     },
     "execution_count": 3,
     "metadata": {},
     "output_type": "execute_result"
    }
   ],
   "source": [
    "train_data = pd.read_csv(train_file)\n",
    "train_data.head()"
   ]
  },
  {
   "cell_type": "code",
   "execution_count": 4,
   "metadata": {},
   "outputs": [
    {
     "name": "stdout",
     "output_type": "stream",
     "text": [
      "<class 'pandas.core.frame.DataFrame'>\n",
      "RangeIndex: 8000 entries, 0 to 7999\n",
      "Data columns (total 7 columns):\n",
      " #   Column       Non-Null Count  Dtype  \n",
      "---  ------       --------------  -----  \n",
      " 0   id           8000 non-null   int64  \n",
      " 1   date         8000 non-null   object \n",
      " 2   ticker       8000 non-null   object \n",
      " 3   emo_label    8000 non-null   object \n",
      " 4   senti_label  8000 non-null   object \n",
      " 5   original     8000 non-null   object \n",
      " 6   Unnamed: 6   0 non-null      float64\n",
      "dtypes: float64(1), int64(1), object(5)\n",
      "memory usage: 437.6+ KB\n"
     ]
    }
   ],
   "source": [
    "train_data.info()"
   ]
  },
  {
   "cell_type": "code",
   "execution_count": 5,
   "metadata": {},
   "outputs": [
    {
     "data": {
      "text/html": [
       "<div>\n",
       "<style scoped>\n",
       "    .dataframe tbody tr th:only-of-type {\n",
       "        vertical-align: middle;\n",
       "    }\n",
       "\n",
       "    .dataframe tbody tr th {\n",
       "        vertical-align: top;\n",
       "    }\n",
       "\n",
       "    .dataframe thead th {\n",
       "        text-align: right;\n",
       "    }\n",
       "</style>\n",
       "<table border=\"1\" class=\"dataframe\">\n",
       "  <thead>\n",
       "    <tr style=\"text-align: right;\">\n",
       "      <th></th>\n",
       "      <th>original</th>\n",
       "      <th>emo_label</th>\n",
       "      <th>senti_label</th>\n",
       "    </tr>\n",
       "  </thead>\n",
       "  <tbody>\n",
       "    <tr>\n",
       "      <th>0</th>\n",
       "      <td>$AMZN Dow futures up by 100 points already 🥳</td>\n",
       "      <td>excitement</td>\n",
       "      <td>bullish</td>\n",
       "    </tr>\n",
       "    <tr>\n",
       "      <th>1</th>\n",
       "      <td>$TSLA Daddy's drinkin' eArly tonight! Here's t...</td>\n",
       "      <td>excitement</td>\n",
       "      <td>bullish</td>\n",
       "    </tr>\n",
       "    <tr>\n",
       "      <th>2</th>\n",
       "      <td>$AAPL We’ll been riding since last December fr...</td>\n",
       "      <td>confusion</td>\n",
       "      <td>bullish</td>\n",
       "    </tr>\n",
       "    <tr>\n",
       "      <th>3</th>\n",
       "      <td>$TSLA happy new year, 2020, everyone🍷🎉🙏</td>\n",
       "      <td>excitement</td>\n",
       "      <td>bullish</td>\n",
       "    </tr>\n",
       "    <tr>\n",
       "      <th>4</th>\n",
       "      <td>$TSLA haha just a collection of greats...\"Mars...</td>\n",
       "      <td>excitement</td>\n",
       "      <td>bullish</td>\n",
       "    </tr>\n",
       "  </tbody>\n",
       "</table>\n",
       "</div>"
      ],
      "text/plain": [
       "                                            original   emo_label senti_label\n",
       "0       $AMZN Dow futures up by 100 points already 🥳  excitement     bullish\n",
       "1  $TSLA Daddy's drinkin' eArly tonight! Here's t...  excitement     bullish\n",
       "2  $AAPL We’ll been riding since last December fr...   confusion     bullish\n",
       "3            $TSLA happy new year, 2020, everyone🍷🎉🙏  excitement     bullish\n",
       "4  $TSLA haha just a collection of greats...\"Mars...  excitement     bullish"
      ]
     },
     "execution_count": 5,
     "metadata": {},
     "output_type": "execute_result"
    }
   ],
   "source": [
    "data = train_data[[\"original\", \"emo_label\", \"senti_label\"]]\n",
    "data.head()"
   ]
  },
  {
   "cell_type": "code",
   "execution_count": 7,
   "metadata": {},
   "outputs": [
    {
     "data": {
      "text/plain": [
       "emo_label\n",
       "optimism      1299\n",
       "anxiety       1099\n",
       "excitement    1092\n",
       "disgust       1037\n",
       "belief         728\n",
       "ambiguous      698\n",
       "amusement      652\n",
       "confusion      489\n",
       "anger          309\n",
       "panic          240\n",
       "surprise       191\n",
       "depression     166\n",
       "Name: count, dtype: int64"
      ]
     },
     "execution_count": 7,
     "metadata": {},
     "output_type": "execute_result"
    }
   ],
   "source": [
    "data.emo_label.value_counts()"
   ]
  },
  {
   "cell_type": "code",
   "execution_count": 36,
   "metadata": {},
   "outputs": [
    {
     "data": {
      "image/png": "[encoded data removed]",
      "text/plain": [
       "<Figure size 1200x500 with 1 Axes>"
      ]
     },
     "metadata": {},
     "output_type": "display_data"
    }
   ],
   "source": [
    "ax =data.emo_label.value_counts().sort_values(ascending=False) \\\n",
    "    .plot(kind=\"barh\", figsize=(12, 5))\n",
    "ax.set_xlabel(\"Count\")\n",
    "ax.set_ylabel(\"Emotions\")\n",
    "ax.set_title(\"Emotions by Count plot\")\n",
    "plt.show()"
   ]
  },
  {
   "cell_type": "code",
   "execution_count": 37,
   "metadata": {},
   "outputs": [
    {
     "data": {
      "image/png": "[encoded data removed]",
      "text/plain": [
       "<Figure size 1000x100 with 1 Axes>"
      ]
     },
     "metadata": {},
     "output_type": "display_data"
    }
   ],
   "source": [
    "ax =data.senti_label.value_counts().sort_values(ascending=False) \\\n",
    "    .plot(kind=\"barh\", figsize=(10, 1), color=\"red\")\n",
    "ax.set_ylabel(\"Sentiment\")\n",
    "ax.set_xlabel(\"Count\")\n",
    "ax.set_title(\"Sentiment Distribution plot\")\n",
    "plt.show()"
   ]
  },
  {
   "cell_type": "markdown",
   "metadata": {},
   "source": [
    "Lets see what a piece of text we have in the tweets"
   ]
  },
  {
   "cell_type": "code",
   "execution_count": 38,
   "metadata": {},
   "outputs": [
    {
     "data": {
      "text/plain": [
       "'$AMZN Dow futures up by 100 points already 🥳'"
      ]
     },
     "execution_count": 38,
     "metadata": {},
     "output_type": "execute_result"
    }
   ],
   "source": [
    "example = train_data[\"original\"][0]\n",
    "example"
   ]
  },
  {
   "cell_type": "markdown",
   "metadata": {},
   "source": [
    "- Since the data has both upper and lower case letters, we have to lower it first.\n",
    "- The data contains some emojis, that are to be converted to text.\n",
    "- The data also contains numbers and special symbols that are to be removed before converting them to word embeddings."
   ]
  },
  {
   "cell_type": "code",
   "execution_count": 39,
   "metadata": {},
   "outputs": [
    {
     "data": {
      "text/html": [
       "<div>\n",
       "<style scoped>\n",
       "    .dataframe tbody tr th:only-of-type {\n",
       "        vertical-align: middle;\n",
       "    }\n",
       "\n",
       "    .dataframe tbody tr th {\n",
       "        vertical-align: top;\n",
       "    }\n",
       "\n",
       "    .dataframe thead th {\n",
       "        text-align: right;\n",
       "    }\n",
       "</style>\n",
       "<table border=\"1\" class=\"dataframe\">\n",
       "  <thead>\n",
       "    <tr style=\"text-align: right;\">\n",
       "      <th></th>\n",
       "      <th>id</th>\n",
       "      <th>date</th>\n",
       "      <th>ticker</th>\n",
       "      <th>emo_label</th>\n",
       "      <th>senti_label</th>\n",
       "      <th>original</th>\n",
       "      <th>Unnamed: 6</th>\n",
       "    </tr>\n",
       "  </thead>\n",
       "  <tbody>\n",
       "    <tr>\n",
       "      <th>0</th>\n",
       "      <td>100001</td>\n",
       "      <td>01-01-2020</td>\n",
       "      <td>AMZN</td>\n",
       "      <td>excitement</td>\n",
       "      <td>bullish</td>\n",
       "      <td>$AMZN Dow futures up by 100 points already 🥳</td>\n",
       "      <td>NaN</td>\n",
       "    </tr>\n",
       "    <tr>\n",
       "      <th>1</th>\n",
       "      <td>100002</td>\n",
       "      <td>01-01-2020</td>\n",
       "      <td>TSLA</td>\n",
       "      <td>excitement</td>\n",
       "      <td>bullish</td>\n",
       "      <td>$TSLA Daddy's drinkin' eArly tonight! Here's t...</td>\n",
       "      <td>NaN</td>\n",
       "    </tr>\n",
       "    <tr>\n",
       "      <th>2</th>\n",
       "      <td>100003</td>\n",
       "      <td>01-01-2020</td>\n",
       "      <td>AAPL</td>\n",
       "      <td>confusion</td>\n",
       "      <td>bullish</td>\n",
       "      <td>$AAPL We’ll been riding since last December fr...</td>\n",
       "      <td>NaN</td>\n",
       "    </tr>\n",
       "    <tr>\n",
       "      <th>3</th>\n",
       "      <td>100004</td>\n",
       "      <td>01-01-2020</td>\n",
       "      <td>TSLA</td>\n",
       "      <td>excitement</td>\n",
       "      <td>bullish</td>\n",
       "      <td>$TSLA happy new year, 2020, everyone🍷🎉🙏</td>\n",
       "      <td>NaN</td>\n",
       "    </tr>\n",
       "    <tr>\n",
       "      <th>4</th>\n",
       "      <td>100005</td>\n",
       "      <td>01-01-2020</td>\n",
       "      <td>TSLA</td>\n",
       "      <td>excitement</td>\n",
       "      <td>bullish</td>\n",
       "      <td>$TSLA haha just a collection of greats...\"Mars...</td>\n",
       "      <td>NaN</td>\n",
       "    </tr>\n",
       "  </tbody>\n",
       "</table>\n",
       "</div>"
      ],
      "text/plain": [
       "       id        date ticker   emo_label senti_label  \\\n",
       "0  100001  01-01-2020   AMZN  excitement     bullish   \n",
       "1  100002  01-01-2020   TSLA  excitement     bullish   \n",
       "2  100003  01-01-2020   AAPL   confusion     bullish   \n",
       "3  100004  01-01-2020   TSLA  excitement     bullish   \n",
       "4  100005  01-01-2020   TSLA  excitement     bullish   \n",
       "\n",
       "                                            original  Unnamed: 6  \n",
       "0       $AMZN Dow futures up by 100 points already 🥳         NaN  \n",
       "1  $TSLA Daddy's drinkin' eArly tonight! Here's t...         NaN  \n",
       "2  $AAPL We’ll been riding since last December fr...         NaN  \n",
       "3            $TSLA happy new year, 2020, everyone🍷🎉🙏         NaN  \n",
       "4  $TSLA haha just a collection of greats...\"Mars...         NaN  "
      ]
     },
     "execution_count": 39,
     "metadata": {},
     "output_type": "execute_result"
    }
   ],
   "source": [
    "train_data.head()"
   ]
  },
  {
   "cell_type": "code",
   "execution_count": 40,
   "metadata": {},
   "outputs": [],
   "source": [
    "import emoji\n",
    "train_data[\"processed\"] = \"\"\n",
    "train_data.dropna(how=\"all\", axis=1, inplace=True)\n",
    "for i, row in train_data.iterrows():\n",
    "    processed_tweet = emoji.demojize(row[\"original\"], delimiters=(\" \", \" \"))\n",
    "    train_data.loc[i, \"processed\"] = processed_tweet"
   ]
  },
  {
   "cell_type": "code",
   "execution_count": 41,
   "metadata": {},
   "outputs": [
    {
     "data": {
      "text/html": [
       "<div>\n",
       "<style scoped>\n",
       "    .dataframe tbody tr th:only-of-type {\n",
       "        vertical-align: middle;\n",
       "    }\n",
       "\n",
       "    .dataframe tbody tr th {\n",
       "        vertical-align: top;\n",
       "    }\n",
       "\n",
       "    .dataframe thead th {\n",
       "        text-align: right;\n",
       "    }\n",
       "</style>\n",
       "<table border=\"1\" class=\"dataframe\">\n",
       "  <thead>\n",
       "    <tr style=\"text-align: right;\">\n",
       "      <th></th>\n",
       "      <th>id</th>\n",
       "      <th>date</th>\n",
       "      <th>ticker</th>\n",
       "      <th>emo_label</th>\n",
       "      <th>senti_label</th>\n",
       "      <th>original</th>\n",
       "      <th>processed</th>\n",
       "    </tr>\n",
       "  </thead>\n",
       "  <tbody>\n",
       "    <tr>\n",
       "      <th>5895</th>\n",
       "      <td>105955</td>\n",
       "      <td>22-09-2020</td>\n",
       "      <td>AMZN</td>\n",
       "      <td>surprise</td>\n",
       "      <td>bullish</td>\n",
       "      <td>$AMZN magic word Jeff is STOCK-SPLIT📈✅</td>\n",
       "      <td>$AMZN magic word Jeff is STOCK-SPLIT chart_inc...</td>\n",
       "    </tr>\n",
       "    <tr>\n",
       "      <th>3720</th>\n",
       "      <td>103768</td>\n",
       "      <td>13-07-2020</td>\n",
       "      <td>AAPL</td>\n",
       "      <td>amusement</td>\n",
       "      <td>bearish</td>\n",
       "      <td>$AAPL the perfect storm Overvalued, Overrated,...</td>\n",
       "      <td>$AAPL the perfect storm Overvalued, Overrated,...</td>\n",
       "    </tr>\n",
       "    <tr>\n",
       "      <th>4231</th>\n",
       "      <td>104284</td>\n",
       "      <td>06-08-2020</td>\n",
       "      <td>AAPL</td>\n",
       "      <td>belief</td>\n",
       "      <td>bullish</td>\n",
       "      <td>$AAPL No point in selling mfs 🥂🥂</td>\n",
       "      <td>$AAPL No point in selling mfs  clinking_glasse...</td>\n",
       "    </tr>\n",
       "    <tr>\n",
       "      <th>2818</th>\n",
       "      <td>102860</td>\n",
       "      <td>08-05-2020</td>\n",
       "      <td>AAPL</td>\n",
       "      <td>optimism</td>\n",
       "      <td>bullish</td>\n",
       "      <td>$AAPL haha guess I should have held those 300 ...</td>\n",
       "      <td>$AAPL haha guess I should have held those 300 ...</td>\n",
       "    </tr>\n",
       "    <tr>\n",
       "      <th>6824</th>\n",
       "      <td>106887</td>\n",
       "      <td>10-11-2020</td>\n",
       "      <td>BA</td>\n",
       "      <td>depression</td>\n",
       "      <td>bullish</td>\n",
       "      <td>$BA why why did I sell this yesterday 😭 😭 but ...</td>\n",
       "      <td>$BA why why did I sell this yesterday  loudly_...</td>\n",
       "    </tr>\n",
       "  </tbody>\n",
       "</table>\n",
       "</div>"
      ],
      "text/plain": [
       "          id        date ticker   emo_label senti_label  \\\n",
       "5895  105955  22-09-2020   AMZN    surprise     bullish   \n",
       "3720  103768  13-07-2020   AAPL   amusement     bearish   \n",
       "4231  104284  06-08-2020   AAPL      belief     bullish   \n",
       "2818  102860  08-05-2020   AAPL    optimism     bullish   \n",
       "6824  106887  10-11-2020     BA  depression     bullish   \n",
       "\n",
       "                                               original  \\\n",
       "5895             $AMZN magic word Jeff is STOCK-SPLIT📈✅   \n",
       "3720  $AAPL the perfect storm Overvalued, Overrated,...   \n",
       "4231                   $AAPL No point in selling mfs 🥂🥂   \n",
       "2818  $AAPL haha guess I should have held those 300 ...   \n",
       "6824  $BA why why did I sell this yesterday 😭 😭 but ...   \n",
       "\n",
       "                                              processed  \n",
       "5895  $AMZN magic word Jeff is STOCK-SPLIT chart_inc...  \n",
       "3720  $AAPL the perfect storm Overvalued, Overrated,...  \n",
       "4231  $AAPL No point in selling mfs  clinking_glasse...  \n",
       "2818  $AAPL haha guess I should have held those 300 ...  \n",
       "6824  $BA why why did I sell this yesterday  loudly_...  "
      ]
     },
     "execution_count": 41,
     "metadata": {},
     "output_type": "execute_result"
    }
   ],
   "source": [
    "train_data.sample(5)"
   ]
  },
  {
   "cell_type": "code",
   "execution_count": 42,
   "metadata": {},
   "outputs": [
    {
     "name": "stdout",
     "output_type": "stream",
     "text": [
      "Original :  $AMZN Dow futures up by 100 points already 🥳\n",
      "Processed :  $AMZN Dow futures up by 100 points already  partying_face \n"
     ]
    }
   ],
   "source": [
    "print(\"Original : \", train_data[\"original\"][0])\n",
    "print(\"Processed : \", train_data[\"processed\"][0])"
   ]
  },
  {
   "cell_type": "code",
   "execution_count": 43,
   "metadata": {},
   "outputs": [
    {
     "name": "stdout",
     "output_type": "stream",
     "text": [
      "Original tweet :  $TSLA Daddy's drinkin' eArly tonight! Here's to a PT of ohhhhh $1000 in 2020! 🍻\n",
      "Processed tweet :  tsla daddy drinkin early tonight here pt ohhhhh clinking beer mug\n"
     ]
    }
   ],
   "source": [
    "import nltk\n",
    "from nltk.tokenize import wordpunct_tokenize\n",
    "from nltk.corpus import stopwords\n",
    "from nltk.stem import WordNetLemmatizer\n",
    "\n",
    "# nltk.download(\"punkt\")\n",
    "# nltk.download(\"stopwords\")\n",
    "# nltk.download(\"wordnet\")\n",
    "\n",
    "def process_text(text):\n",
    "    text = text.lower()\n",
    "    text = text.replace(\"_\", \" \")\n",
    "    text = re.sub(r'[^a-zA-Z\\s]', '', text)\n",
    "    tokens =  wordpunct_tokenize(text)\n",
    "    stop_words = set(stopwords.words(\"english\"))\n",
    "    tokens = [word for word in tokens if word not in stop_words]\n",
    "    lemmatizer = WordNetLemmatizer()\n",
    "    tokens = [lemmatizer.lemmatize(word) for word in tokens]\n",
    "    return \" \".join(tokens)\n",
    "\n",
    "print(\"Original tweet : \", train_data.original[1])\n",
    "print(\"Processed tweet : \", process_text(train_data.processed[1]))"
   ]
  },
  {
   "cell_type": "code",
   "execution_count": 44,
   "metadata": {},
   "outputs": [
    {
     "name": "stdout",
     "output_type": "stream",
     "text": [
      "Processed tweet :  aapl green morning as yall taken profit face tear joy man facepalming light skin tone eye red apple\n",
      "Sentiment Score :  {'neg': 0.0, 'neu': 0.705, 'pos': 0.295, 'compound': 0.7717}\n"
     ]
    }
   ],
   "source": [
    "from nltk.sentiment import SentimentIntensityAnalyzer\n",
    "# nltk.download(\"vader_lexicon\")\n",
    "\n",
    "sia = SentimentIntensityAnalyzer()\n",
    "\n",
    "def extract_sentiment_intensity(text):\n",
    "    scores = sia.polarity_scores(text)\n",
    "    return scores\n",
    "\n",
    "example = process_text(train_data.processed[56])\n",
    "print(\"Processed tweet : \", example)\n",
    "print(\"Sentiment Score : \", extract_sentiment_intensity(example))"
   ]
  },
  {
   "cell_type": "code",
   "execution_count": 45,
   "metadata": {},
   "outputs": [],
   "source": [
    "with open(\"../Dictionary/Positive-words.txt\") as f:\n",
    "    positive_words = f.readlines()\n",
    "    positive_words = [word.lower().replace(\"\\n\", \"\") for word in positive_words]"
   ]
  },
  {
   "cell_type": "code",
   "execution_count": 46,
   "metadata": {},
   "outputs": [
    {
     "name": "stdout",
     "output_type": "stream",
     "text": [
      "There are 5758 positive words in our dictionary.\n",
      "['aah', 'abeam', 'abide', 'abiding', 'abidingly', 'ability', 'ablaze', 'able', 'able-bodied', 'abled']\n"
     ]
    }
   ],
   "source": [
    "print(f\"There are {len(positive_words)} positive words in our dictionary.\")\n",
    "print(positive_words[:10])"
   ]
  },
  {
   "cell_type": "code",
   "execution_count": 47,
   "metadata": {},
   "outputs": [
    {
     "name": "stdout",
     "output_type": "stream",
     "text": [
      "['2-faced', '2-faces', 'abnormal', 'abolish', 'abominable', 'abominably', 'abominate', 'abomination', 'abort', 'aborted']\n"
     ]
    }
   ],
   "source": [
    "with open(\"../Dictionary/Negative-words.txt\") as f:\n",
    "    negative_words = f.readlines()\n",
    "    negative_words = [word.lower().replace(\"\\n\", \"\") for word in negative_words]\n",
    "print(negative_words[:10])"
   ]
  },
  {
   "cell_type": "code",
   "execution_count": 48,
   "metadata": {},
   "outputs": [
    {
     "name": "stdout",
     "output_type": "stream",
     "text": [
      "There are 4534 negative words in our dictionary.\n"
     ]
    }
   ],
   "source": [
    "print(f\"There are {len(negative_words)} negative words in our dictionary.\")"
   ]
  },
  {
   "cell_type": "markdown",
   "metadata": {},
   "source": [
    "Now lets take an example and see which sentences can be positive, negative or neutral by counting the words in them"
   ]
  },
  {
   "cell_type": "code",
   "execution_count": 49,
   "metadata": {},
   "outputs": [],
   "source": [
    "tweets = [\n",
    "    \"Apple stock is on fire! 🚀 Just broke an all-time high—huge upside potential ahead! #Bullish #Investing\",  \n",
    "    \"Tesla is crashing hard! Down 10% today—investors are panicking. Could see more downside. #Bearish #StockMarketCrash\",\n",
    "    \"Microsoft announced its quarterly earnings today. Revenue met expectations. Let's see how the market reacts.\"\n",
    "]"
   ]
  },
  {
   "cell_type": "code",
   "execution_count": 50,
   "metadata": {},
   "outputs": [
    {
     "name": "stdout",
     "output_type": "stream",
     "text": [
      "Positive Count : 3, Negative Count : 1, Neutral Count : 8, Sentiment Score: 0.17\n",
      "Positive Count : 1, Negative Count : 5, Neutral Count : 4, Sentiment Score: -0.40\n",
      "Positive Count : 1, Negative Count : 0, Neutral Count : 11, Sentiment Score: 0.08\n"
     ]
    }
   ],
   "source": [
    "def process_text(text):\n",
    "    text = text.strip()\n",
    "    text = emoji.demojize(text)\n",
    "    text = text.lower()\n",
    "    text = re.sub(r'[^a-zA-Z\\s]', '', text)\n",
    "    tokens = wordpunct_tokenize(text)\n",
    "    stop_words = set(stopwords.words(\"english\"))\n",
    "    tokens = [word for word in tokens if word not in stop_words]\n",
    "    return tokens\n",
    "    \n",
    "\n",
    "\n",
    "\n",
    "for tweet in tweets:\n",
    "    tokens = process_text(tweet)\n",
    "    pos_count = 0\n",
    "    neg_count = 0\n",
    "    neutral_count = 0\n",
    "    for token in tokens:\n",
    "        if token in positive_words:\n",
    "            pos_count += 1\n",
    "        elif token in negative_words:\n",
    "            neg_count += 1\n",
    "        else:\n",
    "            neutral_count += 1\n",
    "\n",
    "    sentiment_score = (pos_count - neg_count) / len(tokens)\n",
    "    print(f\"Positive Count : {pos_count}, Negative Count : {neg_count}, Neutral Count : {neutral_count}, Sentiment Score: {sentiment_score:.2f}\")"
   ]
  },
  {
   "cell_type": "markdown",
   "metadata": {},
   "source": [
    "Testing the above logic for our own data "
   ]
  },
  {
   "cell_type": "code",
   "execution_count": 51,
   "metadata": {},
   "outputs": [
    {
     "data": {
      "text/html": [
       "<div>\n",
       "<style scoped>\n",
       "    .dataframe tbody tr th:only-of-type {\n",
       "        vertical-align: middle;\n",
       "    }\n",
       "\n",
       "    .dataframe tbody tr th {\n",
       "        vertical-align: top;\n",
       "    }\n",
       "\n",
       "    .dataframe thead th {\n",
       "        text-align: right;\n",
       "    }\n",
       "</style>\n",
       "<table border=\"1\" class=\"dataframe\">\n",
       "  <thead>\n",
       "    <tr style=\"text-align: right;\">\n",
       "      <th></th>\n",
       "      <th>id</th>\n",
       "      <th>date</th>\n",
       "      <th>ticker</th>\n",
       "      <th>emo_label</th>\n",
       "      <th>senti_label</th>\n",
       "      <th>original</th>\n",
       "      <th>Unnamed: 6</th>\n",
       "    </tr>\n",
       "  </thead>\n",
       "  <tbody>\n",
       "    <tr>\n",
       "      <th>0</th>\n",
       "      <td>100001</td>\n",
       "      <td>01-01-2020</td>\n",
       "      <td>AMZN</td>\n",
       "      <td>excitement</td>\n",
       "      <td>bullish</td>\n",
       "      <td>$AMZN Dow futures up by 100 points already 🥳</td>\n",
       "      <td>NaN</td>\n",
       "    </tr>\n",
       "    <tr>\n",
       "      <th>1</th>\n",
       "      <td>100002</td>\n",
       "      <td>01-01-2020</td>\n",
       "      <td>TSLA</td>\n",
       "      <td>excitement</td>\n",
       "      <td>bullish</td>\n",
       "      <td>$TSLA Daddy's drinkin' eArly tonight! Here's t...</td>\n",
       "      <td>NaN</td>\n",
       "    </tr>\n",
       "    <tr>\n",
       "      <th>2</th>\n",
       "      <td>100003</td>\n",
       "      <td>01-01-2020</td>\n",
       "      <td>AAPL</td>\n",
       "      <td>confusion</td>\n",
       "      <td>bullish</td>\n",
       "      <td>$AAPL We’ll been riding since last December fr...</td>\n",
       "      <td>NaN</td>\n",
       "    </tr>\n",
       "    <tr>\n",
       "      <th>3</th>\n",
       "      <td>100004</td>\n",
       "      <td>01-01-2020</td>\n",
       "      <td>TSLA</td>\n",
       "      <td>excitement</td>\n",
       "      <td>bullish</td>\n",
       "      <td>$TSLA happy new year, 2020, everyone🍷🎉🙏</td>\n",
       "      <td>NaN</td>\n",
       "    </tr>\n",
       "    <tr>\n",
       "      <th>4</th>\n",
       "      <td>100005</td>\n",
       "      <td>01-01-2020</td>\n",
       "      <td>TSLA</td>\n",
       "      <td>excitement</td>\n",
       "      <td>bullish</td>\n",
       "      <td>$TSLA haha just a collection of greats...\"Mars...</td>\n",
       "      <td>NaN</td>\n",
       "    </tr>\n",
       "  </tbody>\n",
       "</table>\n",
       "</div>"
      ],
      "text/plain": [
       "       id        date ticker   emo_label senti_label  \\\n",
       "0  100001  01-01-2020   AMZN  excitement     bullish   \n",
       "1  100002  01-01-2020   TSLA  excitement     bullish   \n",
       "2  100003  01-01-2020   AAPL   confusion     bullish   \n",
       "3  100004  01-01-2020   TSLA  excitement     bullish   \n",
       "4  100005  01-01-2020   TSLA  excitement     bullish   \n",
       "\n",
       "                                            original  Unnamed: 6  \n",
       "0       $AMZN Dow futures up by 100 points already 🥳         NaN  \n",
       "1  $TSLA Daddy's drinkin' eArly tonight! Here's t...         NaN  \n",
       "2  $AAPL We’ll been riding since last December fr...         NaN  \n",
       "3            $TSLA happy new year, 2020, everyone🍷🎉🙏         NaN  \n",
       "4  $TSLA haha just a collection of greats...\"Mars...         NaN  "
      ]
     },
     "execution_count": 51,
     "metadata": {},
     "output_type": "execute_result"
    }
   ],
   "source": [
    "train_data = pd.read_csv(train_file)\n",
    "train_data.head()"
   ]
  },
  {
   "cell_type": "code",
   "execution_count": 52,
   "metadata": {},
   "outputs": [],
   "source": [
    "train_data[\"Sentiment score\"] = 0.0"
   ]
  },
  {
   "cell_type": "code",
   "execution_count": 53,
   "metadata": {},
   "outputs": [
    {
     "data": {
      "text/html": [
       "<div>\n",
       "<style scoped>\n",
       "    .dataframe tbody tr th:only-of-type {\n",
       "        vertical-align: middle;\n",
       "    }\n",
       "\n",
       "    .dataframe tbody tr th {\n",
       "        vertical-align: top;\n",
       "    }\n",
       "\n",
       "    .dataframe thead th {\n",
       "        text-align: right;\n",
       "    }\n",
       "</style>\n",
       "<table border=\"1\" class=\"dataframe\">\n",
       "  <thead>\n",
       "    <tr style=\"text-align: right;\">\n",
       "      <th></th>\n",
       "      <th>id</th>\n",
       "      <th>date</th>\n",
       "      <th>ticker</th>\n",
       "      <th>emo_label</th>\n",
       "      <th>senti_label</th>\n",
       "      <th>original</th>\n",
       "      <th>Unnamed: 6</th>\n",
       "      <th>Sentiment score</th>\n",
       "    </tr>\n",
       "  </thead>\n",
       "  <tbody>\n",
       "    <tr>\n",
       "      <th>0</th>\n",
       "      <td>100001</td>\n",
       "      <td>01-01-2020</td>\n",
       "      <td>AMZN</td>\n",
       "      <td>excitement</td>\n",
       "      <td>bullish</td>\n",
       "      <td>$AMZN Dow futures up by 100 points already 🥳</td>\n",
       "      <td>NaN</td>\n",
       "      <td>0.0</td>\n",
       "    </tr>\n",
       "    <tr>\n",
       "      <th>1</th>\n",
       "      <td>100002</td>\n",
       "      <td>01-01-2020</td>\n",
       "      <td>TSLA</td>\n",
       "      <td>excitement</td>\n",
       "      <td>bullish</td>\n",
       "      <td>$TSLA Daddy's drinkin' eArly tonight! Here's t...</td>\n",
       "      <td>NaN</td>\n",
       "      <td>0.0</td>\n",
       "    </tr>\n",
       "    <tr>\n",
       "      <th>2</th>\n",
       "      <td>100003</td>\n",
       "      <td>01-01-2020</td>\n",
       "      <td>AAPL</td>\n",
       "      <td>confusion</td>\n",
       "      <td>bullish</td>\n",
       "      <td>$AAPL We’ll been riding since last December fr...</td>\n",
       "      <td>NaN</td>\n",
       "      <td>0.0</td>\n",
       "    </tr>\n",
       "    <tr>\n",
       "      <th>3</th>\n",
       "      <td>100004</td>\n",
       "      <td>01-01-2020</td>\n",
       "      <td>TSLA</td>\n",
       "      <td>excitement</td>\n",
       "      <td>bullish</td>\n",
       "      <td>$TSLA happy new year, 2020, everyone🍷🎉🙏</td>\n",
       "      <td>NaN</td>\n",
       "      <td>0.0</td>\n",
       "    </tr>\n",
       "    <tr>\n",
       "      <th>4</th>\n",
       "      <td>100005</td>\n",
       "      <td>01-01-2020</td>\n",
       "      <td>TSLA</td>\n",
       "      <td>excitement</td>\n",
       "      <td>bullish</td>\n",
       "      <td>$TSLA haha just a collection of greats...\"Mars...</td>\n",
       "      <td>NaN</td>\n",
       "      <td>0.0</td>\n",
       "    </tr>\n",
       "  </tbody>\n",
       "</table>\n",
       "</div>"
      ],
      "text/plain": [
       "       id        date ticker   emo_label senti_label  \\\n",
       "0  100001  01-01-2020   AMZN  excitement     bullish   \n",
       "1  100002  01-01-2020   TSLA  excitement     bullish   \n",
       "2  100003  01-01-2020   AAPL   confusion     bullish   \n",
       "3  100004  01-01-2020   TSLA  excitement     bullish   \n",
       "4  100005  01-01-2020   TSLA  excitement     bullish   \n",
       "\n",
       "                                            original  Unnamed: 6  \\\n",
       "0       $AMZN Dow futures up by 100 points already 🥳         NaN   \n",
       "1  $TSLA Daddy's drinkin' eArly tonight! Here's t...         NaN   \n",
       "2  $AAPL We’ll been riding since last December fr...         NaN   \n",
       "3            $TSLA happy new year, 2020, everyone🍷🎉🙏         NaN   \n",
       "4  $TSLA haha just a collection of greats...\"Mars...         NaN   \n",
       "\n",
       "   Sentiment score  \n",
       "0              0.0  \n",
       "1              0.0  \n",
       "2              0.0  \n",
       "3              0.0  \n",
       "4              0.0  "
      ]
     },
     "execution_count": 53,
     "metadata": {},
     "output_type": "execute_result"
    }
   ],
   "source": [
    "train_data.head()"
   ]
  },
  {
   "cell_type": "code",
   "execution_count": 56,
   "metadata": {},
   "outputs": [
    {
     "name": "stderr",
     "output_type": "stream",
     "text": [
      "100%|██████████| 8000/8000 [00:12<00:00, 624.97it/s]\n"
     ]
    }
   ],
   "source": [
    "def process_text(text):\n",
    "    text = text.strip()\n",
    "    text = emoji.demojize(text)\n",
    "    text = text.lower()\n",
    "    text = re.sub(r'[^a-zA-Z\\s]', '', text)\n",
    "    tokens = wordpunct_tokenize(text)\n",
    "    stop_words = set(stopwords.words(\"english\"))\n",
    "    tokens = [word for word in tokens if word not in stop_words]\n",
    "    return tokens\n",
    "\n",
    "train_data.dropna(how=\"all\", axis=1, inplace=True)\n",
    "for i, row in tqdm(train_data.iterrows(), total=train_data.shape[0]):\n",
    "    tweet = row[\"original\"]\n",
    "    tokens = process_text(tweet)\n",
    "    pos_count = 0\n",
    "    neg_count = 0\n",
    "    for token in tokens:\n",
    "        if token in positive_words:\n",
    "            pos_count += 1\n",
    "        elif token in negative_words:\n",
    "            neg_count += 1\n",
    "        else:\n",
    "            neutral_count += 1\n",
    "\n",
    "    sentiment_score = (pos_count - neg_count) / len(tokens) if len(tokens) > 0 else 0\n",
    "    train_data.loc[i, \"Sentiment score\"] = sentiment_score    "
   ]
  },
  {
   "cell_type": "code",
   "execution_count": 57,
   "metadata": {},
   "outputs": [
    {
     "data": {
      "text/html": [
       "<div>\n",
       "<style scoped>\n",
       "    .dataframe tbody tr th:only-of-type {\n",
       "        vertical-align: middle;\n",
       "    }\n",
       "\n",
       "    .dataframe tbody tr th {\n",
       "        vertical-align: top;\n",
       "    }\n",
       "\n",
       "    .dataframe thead th {\n",
       "        text-align: right;\n",
       "    }\n",
       "</style>\n",
       "<table border=\"1\" class=\"dataframe\">\n",
       "  <thead>\n",
       "    <tr style=\"text-align: right;\">\n",
       "      <th></th>\n",
       "      <th>id</th>\n",
       "      <th>date</th>\n",
       "      <th>ticker</th>\n",
       "      <th>emo_label</th>\n",
       "      <th>senti_label</th>\n",
       "      <th>original</th>\n",
       "      <th>Sentiment score</th>\n",
       "    </tr>\n",
       "  </thead>\n",
       "  <tbody>\n",
       "    <tr>\n",
       "      <th>3376</th>\n",
       "      <td>103423</td>\n",
       "      <td>19-06-2020</td>\n",
       "      <td>TSLA</td>\n",
       "      <td>disgust</td>\n",
       "      <td>bullish</td>\n",
       "      <td>$TSLA there are still bears in here? 😂</td>\n",
       "      <td>0.250000</td>\n",
       "    </tr>\n",
       "    <tr>\n",
       "      <th>5738</th>\n",
       "      <td>105797</td>\n",
       "      <td>17-09-2020</td>\n",
       "      <td>TSLA</td>\n",
       "      <td>ambiguous</td>\n",
       "      <td>bearish</td>\n",
       "      <td>$TSLA bulls be like buy the dip it's going up 🤪</td>\n",
       "      <td>0.428571</td>\n",
       "    </tr>\n",
       "    <tr>\n",
       "      <th>1512</th>\n",
       "      <td>101539</td>\n",
       "      <td>16-03-2020</td>\n",
       "      <td>TSLA</td>\n",
       "      <td>disgust</td>\n",
       "      <td>bearish</td>\n",
       "      <td>$TSLA do you want to hear a joke? Buy tesla it...</td>\n",
       "      <td>0.375000</td>\n",
       "    </tr>\n",
       "    <tr>\n",
       "      <th>4353</th>\n",
       "      <td>104406</td>\n",
       "      <td>13-08-2020</td>\n",
       "      <td>AAPL</td>\n",
       "      <td>excitement</td>\n",
       "      <td>bullish</td>\n",
       "      <td>$AAPL we’re popping 📈 up $15+ today for sure!</td>\n",
       "      <td>0.400000</td>\n",
       "    </tr>\n",
       "    <tr>\n",
       "      <th>6676</th>\n",
       "      <td>106737</td>\n",
       "      <td>29-10-2020</td>\n",
       "      <td>AAPL</td>\n",
       "      <td>panic</td>\n",
       "      <td>bearish</td>\n",
       "      <td>$AAPL going sub 100 post ER? 😱😱😱</td>\n",
       "      <td>0.000000</td>\n",
       "    </tr>\n",
       "  </tbody>\n",
       "</table>\n",
       "</div>"
      ],
      "text/plain": [
       "          id        date ticker   emo_label senti_label  \\\n",
       "3376  103423  19-06-2020   TSLA     disgust     bullish   \n",
       "5738  105797  17-09-2020   TSLA   ambiguous     bearish   \n",
       "1512  101539  16-03-2020   TSLA     disgust     bearish   \n",
       "4353  104406  13-08-2020   AAPL  excitement     bullish   \n",
       "6676  106737  29-10-2020   AAPL       panic     bearish   \n",
       "\n",
       "                                               original  Sentiment score  \n",
       "3376             $TSLA there are still bears in here? 😂         0.250000  \n",
       "5738    $TSLA bulls be like buy the dip it's going up 🤪         0.428571  \n",
       "1512  $TSLA do you want to hear a joke? Buy tesla it...         0.375000  \n",
       "4353      $AAPL we’re popping 📈 up $15+ today for sure!         0.400000  \n",
       "6676                   $AAPL going sub 100 post ER? 😱😱😱         0.000000  "
      ]
     },
     "execution_count": 57,
     "metadata": {},
     "output_type": "execute_result"
    }
   ],
   "source": [
    "train_data.sample(5)"
   ]
  },
  {
   "cell_type": "markdown",
   "metadata": {},
   "source": [
    "According to the distribution, we have to adjust the threshold to classify them as Positive, Negative and Neutral tweet"
   ]
  },
  {
   "cell_type": "code",
   "execution_count": 58,
   "metadata": {},
   "outputs": [
    {
     "data": {
      "text/plain": [
       "count    8000.000000\n",
       "mean        0.130263\n",
       "std         0.163053\n",
       "min        -0.500000\n",
       "25%         0.000000\n",
       "50%         0.136364\n",
       "75%         0.250000\n",
       "max         0.777778\n",
       "Name: Sentiment score, dtype: float64"
      ]
     },
     "execution_count": 58,
     "metadata": {},
     "output_type": "execute_result"
    }
   ],
   "source": [
    "train_data[\"Sentiment score\"].describe()"
   ]
  },
  {
   "cell_type": "code",
   "execution_count": 59,
   "metadata": {},
   "outputs": [
    {
     "data": {
      "image/png": "[encoded data removed]",
      "text/plain": [
       "<Figure size 640x480 with 1 Axes>"
      ]
     },
     "metadata": {},
     "output_type": "display_data"
    }
   ],
   "source": [
    "ax = train_data[\"Sentiment score\"].plot(kind=\"hist\", bins=30)\n",
    "ax.set_xlabel(\"Frequency Distribution\")\n",
    "ax.set_ylabel(\"Sentiment Score\")\n",
    "plt.show()"
   ]
  },
  {
   "cell_type": "code",
   "execution_count": 60,
   "metadata": {},
   "outputs": [
    {
     "name": "stdout",
     "output_type": "stream",
     "text": [
      "Upper threshold :  0.2\n",
      "Lower threshold :  0.0\n"
     ]
    }
   ],
   "source": [
    "lower_threshold = train_data[\"Sentiment score\"].quantile(0.30)\n",
    "upper_threshold = train_data[\"Sentiment score\"].quantile(0.70)\n",
    "\n",
    "print(\"Upper threshold : \", upper_threshold)\n",
    "print(\"Lower threshold : \", lower_threshold)"
   ]
  },
  {
   "cell_type": "code",
   "execution_count": 61,
   "metadata": {},
   "outputs": [],
   "source": [
    "def classify_sentiment(score):\n",
    "    if score >= upper_threshold:\n",
    "        return \"Positive\"\n",
    "    elif score < lower_threshold:\n",
    "        return \"Negative\"\n",
    "    else:\n",
    "        return \"Neutral\"\n",
    "\n",
    "train_data[\"Sentiment Label\"] = train_data[\"Sentiment score\"].apply(classify_sentiment)"
   ]
  },
  {
   "cell_type": "code",
   "execution_count": 62,
   "metadata": {},
   "outputs": [
    {
     "data": {
      "text/html": [
       "<div>\n",
       "<style scoped>\n",
       "    .dataframe tbody tr th:only-of-type {\n",
       "        vertical-align: middle;\n",
       "    }\n",
       "\n",
       "    .dataframe tbody tr th {\n",
       "        vertical-align: top;\n",
       "    }\n",
       "\n",
       "    .dataframe thead th {\n",
       "        text-align: right;\n",
       "    }\n",
       "</style>\n",
       "<table border=\"1\" class=\"dataframe\">\n",
       "  <thead>\n",
       "    <tr style=\"text-align: right;\">\n",
       "      <th></th>\n",
       "      <th>id</th>\n",
       "      <th>date</th>\n",
       "      <th>ticker</th>\n",
       "      <th>emo_label</th>\n",
       "      <th>senti_label</th>\n",
       "      <th>original</th>\n",
       "      <th>Sentiment score</th>\n",
       "      <th>Sentiment Label</th>\n",
       "    </tr>\n",
       "  </thead>\n",
       "  <tbody>\n",
       "    <tr>\n",
       "      <th>0</th>\n",
       "      <td>100001</td>\n",
       "      <td>01-01-2020</td>\n",
       "      <td>AMZN</td>\n",
       "      <td>excitement</td>\n",
       "      <td>bullish</td>\n",
       "      <td>$AMZN Dow futures up by 100 points already 🥳</td>\n",
       "      <td>0.000000</td>\n",
       "      <td>Neutral</td>\n",
       "    </tr>\n",
       "    <tr>\n",
       "      <th>1</th>\n",
       "      <td>100002</td>\n",
       "      <td>01-01-2020</td>\n",
       "      <td>TSLA</td>\n",
       "      <td>excitement</td>\n",
       "      <td>bullish</td>\n",
       "      <td>$TSLA Daddy's drinkin' eArly tonight! Here's t...</td>\n",
       "      <td>0.111111</td>\n",
       "      <td>Neutral</td>\n",
       "    </tr>\n",
       "    <tr>\n",
       "      <th>2</th>\n",
       "      <td>100003</td>\n",
       "      <td>01-01-2020</td>\n",
       "      <td>AAPL</td>\n",
       "      <td>confusion</td>\n",
       "      <td>bullish</td>\n",
       "      <td>$AAPL We’ll been riding since last December fr...</td>\n",
       "      <td>0.153846</td>\n",
       "      <td>Neutral</td>\n",
       "    </tr>\n",
       "    <tr>\n",
       "      <th>3</th>\n",
       "      <td>100004</td>\n",
       "      <td>01-01-2020</td>\n",
       "      <td>TSLA</td>\n",
       "      <td>excitement</td>\n",
       "      <td>bullish</td>\n",
       "      <td>$TSLA happy new year, 2020, everyone🍷🎉🙏</td>\n",
       "      <td>0.400000</td>\n",
       "      <td>Positive</td>\n",
       "    </tr>\n",
       "    <tr>\n",
       "      <th>4</th>\n",
       "      <td>100005</td>\n",
       "      <td>01-01-2020</td>\n",
       "      <td>TSLA</td>\n",
       "      <td>excitement</td>\n",
       "      <td>bullish</td>\n",
       "      <td>$TSLA haha just a collection of greats...\"Mars...</td>\n",
       "      <td>0.000000</td>\n",
       "      <td>Neutral</td>\n",
       "    </tr>\n",
       "  </tbody>\n",
       "</table>\n",
       "</div>"
      ],
      "text/plain": [
       "       id        date ticker   emo_label senti_label  \\\n",
       "0  100001  01-01-2020   AMZN  excitement     bullish   \n",
       "1  100002  01-01-2020   TSLA  excitement     bullish   \n",
       "2  100003  01-01-2020   AAPL   confusion     bullish   \n",
       "3  100004  01-01-2020   TSLA  excitement     bullish   \n",
       "4  100005  01-01-2020   TSLA  excitement     bullish   \n",
       "\n",
       "                                            original  Sentiment score  \\\n",
       "0       $AMZN Dow futures up by 100 points already 🥳         0.000000   \n",
       "1  $TSLA Daddy's drinkin' eArly tonight! Here's t...         0.111111   \n",
       "2  $AAPL We’ll been riding since last December fr...         0.153846   \n",
       "3            $TSLA happy new year, 2020, everyone🍷🎉🙏         0.400000   \n",
       "4  $TSLA haha just a collection of greats...\"Mars...         0.000000   \n",
       "\n",
       "  Sentiment Label  \n",
       "0         Neutral  \n",
       "1         Neutral  \n",
       "2         Neutral  \n",
       "3        Positive  \n",
       "4         Neutral  "
      ]
     },
     "execution_count": 62,
     "metadata": {},
     "output_type": "execute_result"
    }
   ],
   "source": [
    "train_data.head()"
   ]
  },
  {
   "cell_type": "code",
   "execution_count": 63,
   "metadata": {},
   "outputs": [
    {
     "data": {
      "text/plain": [
       "Sentiment Label\n",
       "Neutral     4376\n",
       "Positive    2857\n",
       "Negative     767\n",
       "Name: count, dtype: int64"
      ]
     },
     "execution_count": 63,
     "metadata": {},
     "output_type": "execute_result"
    }
   ],
   "source": [
    "train_data[\"Sentiment Label\"].value_counts()"
   ]
  },
  {
   "cell_type": "code",
   "execution_count": 64,
   "metadata": {},
   "outputs": [
    {
     "data": {
      "text/html": [
       "<div>\n",
       "<style scoped>\n",
       "    .dataframe tbody tr th:only-of-type {\n",
       "        vertical-align: middle;\n",
       "    }\n",
       "\n",
       "    .dataframe tbody tr th {\n",
       "        vertical-align: top;\n",
       "    }\n",
       "\n",
       "    .dataframe thead th {\n",
       "        text-align: right;\n",
       "    }\n",
       "</style>\n",
       "<table border=\"1\" class=\"dataframe\">\n",
       "  <thead>\n",
       "    <tr style=\"text-align: right;\">\n",
       "      <th></th>\n",
       "      <th>id</th>\n",
       "      <th>date</th>\n",
       "      <th>ticker</th>\n",
       "      <th>emo_label</th>\n",
       "      <th>senti_label</th>\n",
       "      <th>original</th>\n",
       "      <th>Sentiment score</th>\n",
       "      <th>Sentiment Label</th>\n",
       "    </tr>\n",
       "  </thead>\n",
       "  <tbody>\n",
       "    <tr>\n",
       "      <th>1077</th>\n",
       "      <td>101094</td>\n",
       "      <td>02-03-2020</td>\n",
       "      <td>TSLA</td>\n",
       "      <td>amusement</td>\n",
       "      <td>bullish</td>\n",
       "      <td>$TSLA but wait, shorts were swearing this is g...</td>\n",
       "      <td>0.000000</td>\n",
       "      <td>Neutral</td>\n",
       "    </tr>\n",
       "    <tr>\n",
       "      <th>1234</th>\n",
       "      <td>101256</td>\n",
       "      <td>06-03-2020</td>\n",
       "      <td>TSLA</td>\n",
       "      <td>anxiety</td>\n",
       "      <td>bearish</td>\n",
       "      <td>$TSLA opens at $600, 🌈 🐻 will be bathing in te...</td>\n",
       "      <td>0.111111</td>\n",
       "      <td>Neutral</td>\n",
       "    </tr>\n",
       "    <tr>\n",
       "      <th>7120</th>\n",
       "      <td>107184</td>\n",
       "      <td>24-11-2020</td>\n",
       "      <td>BA</td>\n",
       "      <td>anxiety</td>\n",
       "      <td>bullish</td>\n",
       "      <td>$BA I’m sensing a reversal tomorrow . 🤕</td>\n",
       "      <td>0.000000</td>\n",
       "      <td>Neutral</td>\n",
       "    </tr>\n",
       "    <tr>\n",
       "      <th>2</th>\n",
       "      <td>100003</td>\n",
       "      <td>01-01-2020</td>\n",
       "      <td>AAPL</td>\n",
       "      <td>confusion</td>\n",
       "      <td>bullish</td>\n",
       "      <td>$AAPL We’ll been riding since last December fr...</td>\n",
       "      <td>0.153846</td>\n",
       "      <td>Neutral</td>\n",
       "    </tr>\n",
       "    <tr>\n",
       "      <th>6797</th>\n",
       "      <td>106860</td>\n",
       "      <td>09-11-2020</td>\n",
       "      <td>AAPL</td>\n",
       "      <td>confusion</td>\n",
       "      <td>bearish</td>\n",
       "      <td>$AAPL 117 put make money this week ? 🤔</td>\n",
       "      <td>0.166667</td>\n",
       "      <td>Neutral</td>\n",
       "    </tr>\n",
       "  </tbody>\n",
       "</table>\n",
       "</div>"
      ],
      "text/plain": [
       "          id        date ticker  emo_label senti_label  \\\n",
       "1077  101094  02-03-2020   TSLA  amusement     bullish   \n",
       "1234  101256  06-03-2020   TSLA    anxiety     bearish   \n",
       "7120  107184  24-11-2020     BA    anxiety     bullish   \n",
       "2     100003  01-01-2020   AAPL  confusion     bullish   \n",
       "6797  106860  09-11-2020   AAPL  confusion     bearish   \n",
       "\n",
       "                                               original  Sentiment score  \\\n",
       "1077  $TSLA but wait, shorts were swearing this is g...         0.000000   \n",
       "1234  $TSLA opens at $600, 🌈 🐻 will be bathing in te...         0.111111   \n",
       "7120            $BA I’m sensing a reversal tomorrow . 🤕         0.000000   \n",
       "2     $AAPL We’ll been riding since last December fr...         0.153846   \n",
       "6797             $AAPL 117 put make money this week ? 🤔         0.166667   \n",
       "\n",
       "     Sentiment Label  \n",
       "1077         Neutral  \n",
       "1234         Neutral  \n",
       "7120         Neutral  \n",
       "2            Neutral  \n",
       "6797         Neutral  "
      ]
     },
     "execution_count": 64,
     "metadata": {},
     "output_type": "execute_result"
    }
   ],
   "source": [
    "train_data[train_data[\"Sentiment Label\"] == \"Neutral\"].sample(5)"
   ]
  },
  {
   "cell_type": "code",
   "execution_count": 69,
   "metadata": {},
   "outputs": [
    {
     "name": "stderr",
     "output_type": "stream",
     "text": [
      "100%|██████████| 8000/8000 [00:05<00:00, 1447.73it/s]\n"
     ]
    }
   ],
   "source": [
    "sia = SentimentIntensityAnalyzer()\n",
    "\n",
    "train_data[\"compound score\"] = 0.0\n",
    "\n",
    "for i, row in tqdm(train_data.iterrows(), total=train_data.shape[0]):\n",
    "    text = process_text(row[\"original\"])\n",
    "    text = \" \".join(text)\n",
    "    scores = sia.polarity_scores(text)\n",
    "    train_data.loc[i, \"compound score\"] = scores[\"compound\"]\n"
   ]
  },
  {
   "cell_type": "code",
   "execution_count": 70,
   "metadata": {},
   "outputs": [
    {
     "data": {
      "text/html": [
       "<div>\n",
       "<style scoped>\n",
       "    .dataframe tbody tr th:only-of-type {\n",
       "        vertical-align: middle;\n",
       "    }\n",
       "\n",
       "    .dataframe tbody tr th {\n",
       "        vertical-align: top;\n",
       "    }\n",
       "\n",
       "    .dataframe thead th {\n",
       "        text-align: right;\n",
       "    }\n",
       "</style>\n",
       "<table border=\"1\" class=\"dataframe\">\n",
       "  <thead>\n",
       "    <tr style=\"text-align: right;\">\n",
       "      <th></th>\n",
       "      <th>id</th>\n",
       "      <th>date</th>\n",
       "      <th>ticker</th>\n",
       "      <th>emo_label</th>\n",
       "      <th>senti_label</th>\n",
       "      <th>original</th>\n",
       "      <th>Sentiment score</th>\n",
       "      <th>Sentiment Label</th>\n",
       "      <th>compound score</th>\n",
       "    </tr>\n",
       "  </thead>\n",
       "  <tbody>\n",
       "    <tr>\n",
       "      <th>5114</th>\n",
       "      <td>105170</td>\n",
       "      <td>03-09-2020</td>\n",
       "      <td>TSLA</td>\n",
       "      <td>disgust</td>\n",
       "      <td>bearish</td>\n",
       "      <td>$TSLA \\n\\nWow... Sorry about your bad luck tec...</td>\n",
       "      <td>0.250000</td>\n",
       "      <td>Positive</td>\n",
       "      <td>0.7783</td>\n",
       "    </tr>\n",
       "    <tr>\n",
       "      <th>2836</th>\n",
       "      <td>102879</td>\n",
       "      <td>12-05-2020</td>\n",
       "      <td>DIS</td>\n",
       "      <td>ambiguous</td>\n",
       "      <td>bearish</td>\n",
       "      <td>$DIS can’t wait to sell me puts tomorrow for s...</td>\n",
       "      <td>0.166667</td>\n",
       "      <td>Neutral</td>\n",
       "      <td>0.3400</td>\n",
       "    </tr>\n",
       "    <tr>\n",
       "      <th>2781</th>\n",
       "      <td>102823</td>\n",
       "      <td>07-05-2020</td>\n",
       "      <td>DIS</td>\n",
       "      <td>anxiety</td>\n",
       "      <td>bearish</td>\n",
       "      <td>$DIS start selling off fellas, next stop: $90 ...</td>\n",
       "      <td>0.250000</td>\n",
       "      <td>Positive</td>\n",
       "      <td>-0.2960</td>\n",
       "    </tr>\n",
       "    <tr>\n",
       "      <th>5896</th>\n",
       "      <td>105956</td>\n",
       "      <td>22-09-2020</td>\n",
       "      <td>TSLA</td>\n",
       "      <td>amusement</td>\n",
       "      <td>bullish</td>\n",
       "      <td>$TSLA time to face the music shorts. This has ...</td>\n",
       "      <td>0.296296</td>\n",
       "      <td>Positive</td>\n",
       "      <td>0.1280</td>\n",
       "    </tr>\n",
       "    <tr>\n",
       "      <th>5671</th>\n",
       "      <td>105729</td>\n",
       "      <td>16-09-2020</td>\n",
       "      <td>WMT</td>\n",
       "      <td>optimism</td>\n",
       "      <td>bullish</td>\n",
       "      <td>$WMT walmart+, another stimulus, new game cons...</td>\n",
       "      <td>0.272727</td>\n",
       "      <td>Positive</td>\n",
       "      <td>0.6705</td>\n",
       "    </tr>\n",
       "  </tbody>\n",
       "</table>\n",
       "</div>"
      ],
      "text/plain": [
       "          id        date ticker  emo_label senti_label  \\\n",
       "5114  105170  03-09-2020   TSLA    disgust     bearish   \n",
       "2836  102879  12-05-2020    DIS  ambiguous     bearish   \n",
       "2781  102823  07-05-2020    DIS    anxiety     bearish   \n",
       "5896  105956  22-09-2020   TSLA  amusement     bullish   \n",
       "5671  105729  16-09-2020    WMT   optimism     bullish   \n",
       "\n",
       "                                               original  Sentiment score  \\\n",
       "5114  $TSLA \\n\\nWow... Sorry about your bad luck tec...         0.250000   \n",
       "2836  $DIS can’t wait to sell me puts tomorrow for s...         0.166667   \n",
       "2781  $DIS start selling off fellas, next stop: $90 ...         0.250000   \n",
       "5896  $TSLA time to face the music shorts. This has ...         0.296296   \n",
       "5671  $WMT walmart+, another stimulus, new game cons...         0.272727   \n",
       "\n",
       "     Sentiment Label  compound score  \n",
       "5114        Positive          0.7783  \n",
       "2836         Neutral          0.3400  \n",
       "2781        Positive         -0.2960  \n",
       "5896        Positive          0.1280  \n",
       "5671        Positive          0.6705  "
      ]
     },
     "execution_count": 70,
     "metadata": {},
     "output_type": "execute_result"
    }
   ],
   "source": [
    "train_data.sample(5)"
   ]
  },
  {
   "cell_type": "code",
   "execution_count": 71,
   "metadata": {},
   "outputs": [],
   "source": [
    "def classify_sentiment(score):\n",
    "    if score > 0.05:\n",
    "        return \"Positive\"\n",
    "    elif score < -0.05:\n",
    "        return \"Negative\"\n",
    "    else:\n",
    "        return \"Neutral\"\n",
    "\n",
    "train_data[\"Compound Label\"] = train_data[\"compound score\"].apply(classify_sentiment)"
   ]
  },
  {
   "cell_type": "code",
   "execution_count": 72,
   "metadata": {},
   "outputs": [
    {
     "data": {
      "text/plain": [
       "Compound Label\n",
       "Positive    3245\n",
       "Neutral     3078\n",
       "Negative    1677\n",
       "Name: count, dtype: int64"
      ]
     },
     "execution_count": 72,
     "metadata": {},
     "output_type": "execute_result"
    }
   ],
   "source": [
    "train_data[\"Compound Label\"].value_counts()"
   ]
  },
  {
   "cell_type": "code",
   "execution_count": 73,
   "metadata": {},
   "outputs": [
    {
     "data": {
      "image/png": "[encoded data removed]",
      "text/plain": [
       "<Figure size 1200x500 with 1 Axes>"
      ]
     },
     "metadata": {},
     "output_type": "display_data"
    }
   ],
   "source": [
    "data = {\n",
    "    \"Sentiment\": [\"Positive\", \"Neutral\", \"Negative\"],\n",
    "    \"Label Type\": [\"Compound Label\", \"Compound Label\", \"Compound Label\"],\n",
    "    \"Count\": [3373, 2345, 2282]\n",
    "}\n",
    "\n",
    "data2 = {\n",
    "    \"Sentiment\": [\"Positive\", \"Neutral\", \"Negative\"],\n",
    "    \"Label Type\": [\"Sentiment Label\", \"Sentiment Label\", \"Sentiment Label\"],\n",
    "    \"Count\": [2857, 4376, 767]\n",
    "}\n",
    "\n",
    "df = pd.DataFrame(data)\n",
    "df2 = pd.DataFrame(data2)\n",
    "df = pd.concat([df, df2])\n",
    "\n",
    "plt.figure(figsize=(12, 5))\n",
    "sns.barplot(x=\"Sentiment\", y=\"Count\", hue=\"Label Type\", data=df)\n",
    "\n",
    "plt.xlabel(\"Sentiment Category\")\n",
    "plt.ylabel(\"Count\")\n",
    "plt.title(\"Comparison of Compound Label vs Sentiment Label Counts\")\n",
    "plt.legend(title=\"Label Type\")\n",
    "plt.show()"
   ]
  },
  {
   "cell_type": "code",
   "execution_count": 75,
   "metadata": {},
   "outputs": [],
   "source": [
    "train_data[\"tokens\"] = train_data[\"original\"].apply(process_text)"
   ]
  },
  {
   "cell_type": "code",
   "execution_count": 82,
   "metadata": {},
   "outputs": [
    {
     "name": "stdout",
     "output_type": "stream",
     "text": [
      "33 2\n"
     ]
    }
   ],
   "source": [
    "max_len = float(\"-inf\")\n",
    "min_len = float(\"inf\")\n",
    "for i in range(train_data.shape[0]):\n",
    "    max_len = max(max_len, len(train_data.tokens[i]))\n",
    "    min_len = min(min_len, len(train_data.tokens[i]))\n"
   ]
  },
  {
   "cell_type": "code",
   "execution_count": 85,
   "metadata": {},
   "outputs": [
    {
     "name": "stdout",
     "output_type": "stream",
     "text": [
      "['tsla', 'daddys', 'drinkin', 'early', 'tonight', 'heres', 'pt', 'ohhhhh', 'clinkingbeermugs']\n"
     ]
    }
   ],
   "source": [
    "print(train_data.tokens[1])"
   ]
  }
 ],
 "metadata": {
  "kernelspec": {
   "display_name": "Python 3",
   "language": "python",
   "name": "python3"
  },
  "language_info": {
   "codemirror_mode": {
    "name": "ipython",
    "version": 3
   },
   "file_extension": ".py",
   "mimetype": "text/x-python",
   "name": "python",
   "nbconvert_exporter": "python",
   "pygments_lexer": "ipython3",
   "version": "3.13.2"
  }
 },
 "nbformat": 4,
 "nbformat_minor": 2
}
